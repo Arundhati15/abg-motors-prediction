{
 "cells": [
  {
   "cell_type": "markdown",
   "id": "8601b858",
   "metadata": {},
   "source": [
    "# ABG Motors - Car Purchase Prediction\n",
    "\n",
    "This notebook was created as part of a capstone project to predict car purchases in India using a logistic regression model trained on Japanese customer data."
   ]
  },
  {
   "cell_type": "code",
   "execution_count": null,
   "id": "02acb589",
   "metadata": {},
   "outputs": [],
   "source": [
    "import pandas as pd\n",
    "\n",
    "jpn_df = pd.read_excel('JPN Data.xlsx')\n",
    "ind_df = pd.read_excel('IN_Data.xlsx')\n",
    "\n",
    "print('Japanese Dataset:')\n",
    "display(jpn_df.head())\n",
    "\n",
    "print('Indian Dataset:')\n",
    "display(ind_df.head())"
   ]
  },
  {
   "cell_type": "code",
   "execution_count": null,
   "id": "c9e7b640",
   "metadata": {},
   "outputs": [],
   "source": [
    "jpn_df = jpn_df.drop('ID', axis=1)\n",
    "jpn_df['GENDER'] = jpn_df['GENDER'].map({'M': 0, 'F': 1})\n",
    "\n",
    "print('Missing values in Japanese dataset:')\n",
    "print(jpn_df.isnull().sum())\n",
    "\n",
    "X_jpn = jpn_df.drop('PURCHASE', axis=1)\n",
    "y_jpn = jpn_df['PURCHASE']"
   ]
  },
  {
   "cell_type": "code",
   "execution_count": null,
   "id": "7038eaff",
   "metadata": {},
   "outputs": [],
   "source": [
    "from sklearn.model_selection import train_test_split\n",
    "from sklearn.linear_model import LogisticRegression\n",
    "from sklearn.metrics import classification_report, confusion_matrix\n",
    "\n",
    "X_train, X_test, y_train, y_test = train_test_split(X_jpn, y_jpn, test_size=0.2, random_state=42)\n",
    "\n",
    "model = LogisticRegression(max_iter=200)\n",
    "model.fit(X_train, y_train)\n",
    "y_pred = model.predict(X_test)\n",
    "\n",
    "print('Confusion Matrix:')\n",
    "print(confusion_matrix(y_test, y_pred))\n",
    "\n",
    "print('\\nClassification Report:')\n",
    "print(classification_report(y_test, y_pred))\n",
    "\n",
    "coefficients = pd.DataFrame({\n",
    "    'Feature': X_jpn.columns,\n",
    "    'Coefficient': model.coef_[0]\n",
    "})\n",
    "print('\\nModel Coefficients:')\n",
    "display(coefficients)"
   ]
  },
  {
   "cell_type": "code",
   "execution_count": null,
   "id": "c1d94466",
   "metadata": {},
   "outputs": [],
   "source": [
    "import numpy as np\n",
    "from datetime import datetime\n",
    "\n",
    "ind_df = ind_df.drop('ID', axis=1)\n",
    "ind_df['GENDER'] = ind_df['GENDER'].map({'M': 0, 'F': 1})\n",
    "ind_df['DT_MAINT'] = pd.to_datetime(ind_df['DT_MAINT'], errors='coerce')\n",
    "today = pd.to_datetime('2025-07-08')\n",
    "ind_df['AGE_CAR'] = (today - ind_df['DT_MAINT']).dt.days // 30\n",
    "ind_df = ind_df.drop('DT_MAINT', axis=1)\n",
    "display(ind_df.head())"
   ]
  },
  {
   "cell_type": "code",
   "execution_count": null,
   "id": "b86f10e8",
   "metadata": {},
   "outputs": [],
   "source": [
    "features = ['CURR_AGE', 'GENDER', 'ANN_INCOME', 'AGE_CAR']\n",
    "ind_df['PREDICTED_PURCHASE'] = model.predict(ind_df[features])\n",
    "potential_buyers = ind_df['PREDICTED_PURCHASE'].sum()\n",
    "total_customers = len(ind_df)\n",
    "print(f'Predicted buyers in Indian dataset: {potential_buyers} out of {total_customers}')\n",
    "\n",
    "ind_df.to_excel('IN_Data_With_Predictions.xlsx', index=False)"
   ]
  }
 ],
 "metadata": {},
 "nbformat": 4,
 "nbformat_minor": 5
}
